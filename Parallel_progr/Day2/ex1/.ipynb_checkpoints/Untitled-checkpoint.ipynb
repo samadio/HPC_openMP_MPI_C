{
 "cells": [
  {
   "cell_type": "code",
   "execution_count": 7,
   "metadata": {},
   "outputs": [],
   "source": [
    "def mean(l):\n",
    "    return sum(l)/len(l)\n",
    "one_atom=mean([6.276177, 6.273269,6.287490,6.283675,6.274837 ])\n",
    "two_atom=mean([3.230427 ,3.236451,3.229514, 3.266381,3.230512])\n",
    "four_atom=mean([ 1.715027,1.713490,1.714016,1.714111,1.714535])\n",
    "eight_atom=mean([ 0.912684,0.911409,0.910958, 0.911896,0.912180])\n",
    "sixt_atom=mean([ 0.772355,0.765032,0.761361,0.778129,0.817999])\n",
    "twenty_atom=mean([0.765025, 0.783507, 0.781298,0.795460,0.745516])"
   ]
  },
  {
   "cell_type": "code",
   "execution_count": null,
   "metadata": {},
   "outputs": [],
   "source": []
  }
 ],
 "metadata": {
  "kernelspec": {
   "display_name": "Python 3",
   "language": "python",
   "name": "python3"
  },
  "language_info": {
   "codemirror_mode": {
    "name": "ipython",
    "version": 3
   },
   "file_extension": ".py",
   "mimetype": "text/x-python",
   "name": "python",
   "nbconvert_exporter": "python",
   "pygments_lexer": "ipython3",
   "version": "3.6.8"
  }
 },
 "nbformat": 4,
 "nbformat_minor": 2
}
