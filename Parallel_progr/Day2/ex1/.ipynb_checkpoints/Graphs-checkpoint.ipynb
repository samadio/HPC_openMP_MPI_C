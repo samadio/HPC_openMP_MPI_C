{
 "cells": [
  {
   "cell_type": "code",
   "execution_count": 1,
   "metadata": {},
   "outputs": [
    {
     "name": "stdout",
     "output_type": "stream",
     "text": [
      "Populating the interactive namespace from numpy and matplotlib\n"
     ]
    }
   ],
   "source": [
    "%pylab inline"
   ]
  },
  {
   "cell_type": "code",
   "execution_count": 2,
   "metadata": {},
   "outputs": [],
   "source": [
    "def mean(l):\n",
    "    return sum(l)/len(l)\n",
    "\n",
    "dim=[1,2,4,8,16,20]\n",
    "\n",
    "one_atom=mean([6.276177, 6.273269,6.287490,6.283675,6.274837 ])\n",
    "two_atom=mean([3.230427 ,3.236451,3.229514, 3.266381,3.230512])\n",
    "four_atom=mean([ 1.715027,1.713490,1.714016,1.714111,1.714535])\n",
    "eight_atom=mean([ 0.912684,0.911409,0.910958, 0.911896,0.912180])\n",
    "sixt_atom=mean([ 0.772355,0.765032,0.761361,0.778129,0.817999])\n",
    "twenty_atom=mean([0.765025, 0.783507, 0.781298,0.795460,0.745516])\n",
    "\n",
    "atom=[one_atom,two_atom,four_atom,eight_atom,sixt_atom,twenty_atom]\n",
    "\n",
    "red=[]\n",
    "red.append(mean([6.199186,6.199919,6.196182,6.196858,6.201989]))\n",
    "red.append(mean([3.209401,3.219018,3.255263,3.189864,3.191067]))\n",
    "red.append(mean([1.692742,1.692214,1.692549,1.701724,1.693706]))\n",
    "red.append(mean([0.900400,0.899461,0.899601,0.899335,0.900118]))\n",
    "red.append(mean([0.772771,0.773768,0.782744,0.762869,0.879172]))\n",
    "red.append(mean([0.762024,0.767659,0.776869,0.767650,0.766005]))\n",
    "\n",
    "crit=[]\n",
    "crit.append(mean([6.209515,6.196346,6.198703,6.200134,6.200568]))\n",
    "crit.append(mean([3.249036,3.256206,3.188336,3.190583,3.198645]))\n",
    "crit.append(mean([1.694128,1.692497,1.800200,1.719356,1.691887]))\n",
    "crit.append(mean([0.902409,0.899584,0.900371,0.900215,0.900308]))\n",
    "crit.append(mean([0.774361,0.765451,0.741376,0.779802,0.798789]))\n",
    "crit.append(mean([0.792784,0.766440,0.745622,0.774353,0.756912]))"
   ]
  },
  {
   "cell_type": "code",
   "execution_count": 10,
   "metadata": {},
   "outputs": [
    {
     "name": "stdout",
     "output_type": "stream",
     "text": [
      "True\n",
      "True\n",
      "0.15909780000000084\n"
     ]
    },
    {
     "data": {
      "image/png": "[encoded data removed]",
      "text/plain": [
       "<Figure size 432x288 with 1 Axes>"
      ]
     },
     "metadata": {
      "needs_background": "light"
     },
     "output_type": "display_data"
    }
   ],
   "source": [
    "err=0\n",
    "for i,cont in enumerate(atom):\n",
    "    err+=abs(cont-red[i])\n",
    "\n",
    "crittot=sum(crit)    \n",
    "redtot=sum(red)    \n",
    "atomtot=sum(atom)    \n",
    "\n",
    "slowest= [crittot,redtot,atomtot]\n",
    "sort(slowest)\n",
    "print(slowest[0]==crittot) #crit is the slowest\n",
    "print(slowest[2]==atomtot) #atom is the fastest\n",
    "\n",
    "print(err)\n",
    "ax = subplot(111)\n",
    "ax.plot(dim, atom, label='atom',linewidth=1)\n",
    "ax.plot(dim, red, label='red', linewidth=1)\n",
    "ax.plot(dim, crit, label='crit', linewidth=1)\n",
    "ax.legend()\n",
    "ax.set_xlabel('number of threads')\n",
    "ax.set_ylabel('time (sec)')\n",
    "plt.savefig(\"time.png\",dpi=200)\n",
    "plt.show()"
   ]
  },
  {
   "cell_type": "code",
   "execution_count": null,
   "metadata": {},
   "outputs": [],
   "source": []
  },
  {
   "cell_type": "code",
   "execution_count": null,
   "metadata": {},
   "outputs": [],
   "source": []
  },
  {
   "cell_type": "code",
   "execution_count": null,
   "metadata": {},
   "outputs": [],
   "source": []
  }
 ],
 "metadata": {
  "kernelspec": {
   "display_name": "Python 3",
   "language": "python",
   "name": "python3"
  },
  "language_info": {
   "codemirror_mode": {
    "name": "ipython",
    "version": 3
   },
   "file_extension": ".py",
   "mimetype": "text/x-python",
   "name": "python",
   "nbconvert_exporter": "python",
   "pygments_lexer": "ipython3",
   "version": "3.6.8"
  }
 },
 "nbformat": 4,
 "nbformat_minor": 2
}
